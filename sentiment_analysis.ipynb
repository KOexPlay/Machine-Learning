{
 "cells": [
  {
   "cell_type": "code",
   "execution_count": 1,
   "id": "e5fcd03a-5017-4af4-8381-582c4d4c5e41",
   "metadata": {},
   "outputs": [],
   "source": [
    "import numpy as np\n",
    "import pandas as pd\n",
    "import matplotlib.pyplot as plt\n",
    "import seaborn as sns\n"
   ]
  },
  {
   "cell_type": "code",
   "execution_count": 2,
   "id": "f05a20a1-2725-4259-8e72-18e66c150ad9",
   "metadata": {},
   "outputs": [],
   "source": [
    "data_train = pd.read_csv(\"train_split.csv\", delimiter = \";\", names = [\"text\", \"label\"])\n",
    "data_test = pd.read_csv(\"test_split.csv\", delimiter = \";\", names = [\"text\", \"label\"])"
   ]
  },
  {
   "cell_type": "code",
   "execution_count": 3,
   "id": "5d261953-839d-49f9-b7b8-5c7d1d9ae940",
   "metadata": {},
   "outputs": [],
   "source": [
    "data_train = data_train.drop(index = 0).reset_index(drop = True)\n",
    "data_test = data_test.drop(index = 0).reset_index(drop = True)\n"
   ]
  },
  {
   "cell_type": "code",
   "execution_count": 4,
   "id": "e8735089-1443-456f-a2aa-6cbcc2a98680",
   "metadata": {},
   "outputs": [
    {
     "data": {
      "text/html": [
       "<div>\n",
       "<style scoped>\n",
       "    .dataframe tbody tr th:only-of-type {\n",
       "        vertical-align: middle;\n",
       "    }\n",
       "\n",
       "    .dataframe tbody tr th {\n",
       "        vertical-align: top;\n",
       "    }\n",
       "\n",
       "    .dataframe thead th {\n",
       "        text-align: right;\n",
       "    }\n",
       "</style>\n",
       "<table border=\"1\" class=\"dataframe\">\n",
       "  <thead>\n",
       "    <tr style=\"text-align: right;\">\n",
       "      <th></th>\n",
       "      <th>text</th>\n",
       "      <th>label</th>\n",
       "    </tr>\n",
       "  </thead>\n",
       "  <tbody>\n",
       "    <tr>\n",
       "      <th>0</th>\n",
       "      <td>i refers of course though i cant help feeling ...</td>\n",
       "      <td>joy</td>\n",
       "    </tr>\n",
       "    <tr>\n",
       "      <th>1</th>\n",
       "      <td>im starting to feel that im suffering from fat...</td>\n",
       "      <td>sadness</td>\n",
       "    </tr>\n",
       "    <tr>\n",
       "      <th>2</th>\n",
       "      <td>i feel like i probably would have liked this b...</td>\n",
       "      <td>love</td>\n",
       "    </tr>\n",
       "    <tr>\n",
       "      <th>3</th>\n",
       "      <td>i didn t really feel awkward at all</td>\n",
       "      <td>sadness</td>\n",
       "    </tr>\n",
       "    <tr>\n",
       "      <th>4</th>\n",
       "      <td>im feeling a little grumpy today with the lame...</td>\n",
       "      <td>anger</td>\n",
       "    </tr>\n",
       "  </tbody>\n",
       "</table>\n",
       "</div>"
      ],
      "text/plain": [
       "                                                text    label\n",
       "0  i refers of course though i cant help feeling ...      joy\n",
       "1  im starting to feel that im suffering from fat...  sadness\n",
       "2  i feel like i probably would have liked this b...     love\n",
       "3                i didn t really feel awkward at all  sadness\n",
       "4  im feeling a little grumpy today with the lame...    anger"
      ]
     },
     "execution_count": 4,
     "metadata": {},
     "output_type": "execute_result"
    }
   ],
   "source": [
    "data_train.head()"
   ]
  },
  {
   "cell_type": "code",
   "execution_count": 5,
   "id": "8330824a-7cba-49b1-89c8-294d0237a495",
   "metadata": {},
   "outputs": [
    {
     "data": {
      "text/html": [
       "<div>\n",
       "<style scoped>\n",
       "    .dataframe tbody tr th:only-of-type {\n",
       "        vertical-align: middle;\n",
       "    }\n",
       "\n",
       "    .dataframe tbody tr th {\n",
       "        vertical-align: top;\n",
       "    }\n",
       "\n",
       "    .dataframe thead th {\n",
       "        text-align: right;\n",
       "    }\n",
       "</style>\n",
       "<table border=\"1\" class=\"dataframe\">\n",
       "  <thead>\n",
       "    <tr style=\"text-align: right;\">\n",
       "      <th></th>\n",
       "      <th>text</th>\n",
       "      <th>label</th>\n",
       "    </tr>\n",
       "  </thead>\n",
       "  <tbody>\n",
       "    <tr>\n",
       "      <th>0</th>\n",
       "      <td>ive made it through a week i just feel beaten ...</td>\n",
       "      <td>sadness</td>\n",
       "    </tr>\n",
       "    <tr>\n",
       "      <th>1</th>\n",
       "      <td>i feel this strategy is worthwhile</td>\n",
       "      <td>joy</td>\n",
       "    </tr>\n",
       "    <tr>\n",
       "      <th>2</th>\n",
       "      <td>i feel so worthless and weak what does he have...</td>\n",
       "      <td>sadness</td>\n",
       "    </tr>\n",
       "    <tr>\n",
       "      <th>3</th>\n",
       "      <td>i feel clever nov</td>\n",
       "      <td>joy</td>\n",
       "    </tr>\n",
       "    <tr>\n",
       "      <th>4</th>\n",
       "      <td>im moved in ive been feeling kind of gloomy</td>\n",
       "      <td>sadness</td>\n",
       "    </tr>\n",
       "  </tbody>\n",
       "</table>\n",
       "</div>"
      ],
      "text/plain": [
       "                                                text    label\n",
       "0  ive made it through a week i just feel beaten ...  sadness\n",
       "1                 i feel this strategy is worthwhile      joy\n",
       "2  i feel so worthless and weak what does he have...  sadness\n",
       "3                                  i feel clever nov      joy\n",
       "4        im moved in ive been feeling kind of gloomy  sadness"
      ]
     },
     "execution_count": 5,
     "metadata": {},
     "output_type": "execute_result"
    }
   ],
   "source": [
    "data_test.head()"
   ]
  },
  {
   "cell_type": "code",
   "execution_count": 6,
   "id": "aee85c67-aab4-499f-a229-42b1460798f6",
   "metadata": {},
   "outputs": [
    {
     "data": {
      "text/plain": [
       "label\n",
       "joy         4341\n",
       "sadness     3720\n",
       "anger       1732\n",
       "fear        1540\n",
       "love        1008\n",
       "surprise     459\n",
       "Name: count, dtype: int64"
      ]
     },
     "execution_count": 6,
     "metadata": {},
     "output_type": "execute_result"
    }
   ],
   "source": [
    "data_train[\"label\"].value_counts()"
   ]
  },
  {
   "cell_type": "code",
   "execution_count": 7,
   "id": "e05c63b1-93fd-49e1-b66f-abe35e2f3b81",
   "metadata": {},
   "outputs": [],
   "source": [
    "def custom_encoder(data):\n",
    "    data.replace(to_replace = \"surprise\", value = 1, inplace = True)\n",
    "    data.replace(to_replace = \"joy\", value = 1, inplace = True)\n",
    "    data.replace(to_replace = \"love\", value = 1, inplace = True)\n",
    "    data.replace(to_replace = \"sadness\", value = 0, inplace = True)\n",
    "    data.replace(to_replace = \"anger\", value = 0, inplace = True)\n",
    "    data.replace(to_replace = \"fear\", value = 0, inplace = True)\n",
    "\n",
    "\n",
    "custom_encoder(data_train[\"label\"])"
   ]
  },
  {
   "cell_type": "code",
   "execution_count": 8,
   "id": "f9f5b5d1-5a10-4ebe-97f8-51a2b8c711fc",
   "metadata": {},
   "outputs": [
    {
     "data": {
      "text/html": [
       "<div>\n",
       "<style scoped>\n",
       "    .dataframe tbody tr th:only-of-type {\n",
       "        vertical-align: middle;\n",
       "    }\n",
       "\n",
       "    .dataframe tbody tr th {\n",
       "        vertical-align: top;\n",
       "    }\n",
       "\n",
       "    .dataframe thead th {\n",
       "        text-align: right;\n",
       "    }\n",
       "</style>\n",
       "<table border=\"1\" class=\"dataframe\">\n",
       "  <thead>\n",
       "    <tr style=\"text-align: right;\">\n",
       "      <th></th>\n",
       "      <th>text</th>\n",
       "      <th>label</th>\n",
       "    </tr>\n",
       "  </thead>\n",
       "  <tbody>\n",
       "    <tr>\n",
       "      <th>0</th>\n",
       "      <td>i refers of course though i cant help feeling ...</td>\n",
       "      <td>1</td>\n",
       "    </tr>\n",
       "    <tr>\n",
       "      <th>1</th>\n",
       "      <td>im starting to feel that im suffering from fat...</td>\n",
       "      <td>0</td>\n",
       "    </tr>\n",
       "    <tr>\n",
       "      <th>2</th>\n",
       "      <td>i feel like i probably would have liked this b...</td>\n",
       "      <td>1</td>\n",
       "    </tr>\n",
       "    <tr>\n",
       "      <th>3</th>\n",
       "      <td>i didn t really feel awkward at all</td>\n",
       "      <td>0</td>\n",
       "    </tr>\n",
       "    <tr>\n",
       "      <th>4</th>\n",
       "      <td>im feeling a little grumpy today with the lame...</td>\n",
       "      <td>0</td>\n",
       "    </tr>\n",
       "  </tbody>\n",
       "</table>\n",
       "</div>"
      ],
      "text/plain": [
       "                                                text  label\n",
       "0  i refers of course though i cant help feeling ...      1\n",
       "1  im starting to feel that im suffering from fat...      0\n",
       "2  i feel like i probably would have liked this b...      1\n",
       "3                i didn t really feel awkward at all      0\n",
       "4  im feeling a little grumpy today with the lame...      0"
      ]
     },
     "execution_count": 8,
     "metadata": {},
     "output_type": "execute_result"
    }
   ],
   "source": [
    "data_train.head()"
   ]
  },
  {
   "cell_type": "code",
   "execution_count": 9,
   "id": "6e6d48ff-ea4d-4a70-b51f-ece6262527f7",
   "metadata": {},
   "outputs": [],
   "source": [
    "import re\n",
    "import nltk\n",
    "from nltk.corpus import stopwords\n",
    "from nltk.stem import WordNetLemmatizer"
   ]
  },
  {
   "cell_type": "code",
   "execution_count": 10,
   "id": "97f67b0e-1c05-427b-bd3f-a8250ea8fd51",
   "metadata": {},
   "outputs": [],
   "source": [
    "lm = WordNetLemmatizer()\n",
    "\n",
    "def text_transformation(data):\n",
    "  corpus = []\n",
    "  for sentence in data:\n",
    "    new_item = re.sub('[^a-zA-Z]', ' ', str(sentence))\n",
    "    new_item = new_item.lower()\n",
    "    new_item = new_item.split()\n",
    "    new_item = [lm.lemmatize(word) for word in new_item if word not in set(stopwords.words('english'))]\n",
    "    corpus.append(' '.join(str(x) for x in new_item))\n",
    "  return corpus"
   ]
  },
  {
   "cell_type": "code",
   "execution_count": 11,
   "id": "96e059a6-6e19-4314-8138-0b91a563d633",
   "metadata": {},
   "outputs": [
    {
     "data": {
      "text/plain": [
       "'feel like probably would liked book little bit simple story line'"
      ]
     },
     "execution_count": 11,
     "metadata": {},
     "output_type": "execute_result"
    }
   ],
   "source": [
    "corpus = text_transformation(data_train[\"text\"])\n",
    "corpus[2]"
   ]
  },
  {
   "cell_type": "code",
   "execution_count": 12,
   "id": "aca9fbf7-f77d-4036-9aa2-dc75a804d74f",
   "metadata": {},
   "outputs": [],
   "source": [
    "from sklearn.feature_extraction.text import CountVectorizer\n",
    "cv = CountVectorizer(ngram_range = (1, 2))\n",
    "X = cv.fit_transform(corpus)\n",
    "Y = data_train.label"
   ]
  },
  {
   "cell_type": "code",
   "execution_count": 13,
   "id": "bf1741b6-660f-4a6b-953c-add4fc47eb9f",
   "metadata": {},
   "outputs": [],
   "source": [
    "parameters = {\n",
    "  \"max_features\": ('auto', 'sqrt'),\n",
    "  \"n_estimators\": [500, 1000, 1500],\n",
    "  \"max_depth\": [5, 10, None],\n",
    "  \"min_samples_leaf\": [1,2,5,10],\n",
    "  \"bootstrap\": [True, False]\n",
    "}"
   ]
  },
  {
   "cell_type": "code",
   "execution_count": 14,
   "id": "7e523a1a-92b6-42ab-8253-709a64e111ed",
   "metadata": {},
   "outputs": [],
   "source": [
    "from sklearn.model_selection import GridSearchCV\n",
    "from sklearn.ensemble import RandomForestClassifier"
   ]
  },
  {
   "cell_type": "code",
   "execution_count": null,
   "id": "8e832d2a-9432-458b-93e1-805a496201f7",
   "metadata": {},
   "outputs": [],
   "source": [
    "grid_search = GridSearchCV(RandomForestClassifier(), parameters, cv = 5, return_train_score = True, n_jobs = -1)\n",
    "grid_search.fit(X, Y)\n",
    "grid_search.best_params_"
   ]
  },
  {
   "cell_type": "code",
   "execution_count": null,
   "id": "6a46e7a4-3d15-4563-b589-93d6b60458de",
   "metadata": {},
   "outputs": [],
   "source": [
    "rfc = RandomForestClassifier(max_features = grid_search.best_params_[\"max_features\"], max_depth = grid_search.best_params_[\"max_depth\"], \n",
    "                            n_estimators = grid_search.best_params_[\"n_estimators\"], min_samples_split = grid_search.best_params_[\"min_samples_split\"], \n",
    "                            min_samples_leaf = grid_search.best_params_[\"min_samples_leaf\"], bootstrap = grid_search.best_params_[\"bootstrap\"])\n",
    "rfc.fit(X, Y)"
   ]
  },
  {
   "cell_type": "code",
   "execution_count": null,
   "id": "dae583fc-c164-4440-94c5-d2d87b0e6e16",
   "metadata": {},
   "outputs": [],
   "source": [
    "test_data = pd.read_csv(\"test_split.csv\", delimiter = \";\", names = [\"text\", \"label\"])\n",
    "X_test, Y_test = test_data.text, test_data.label\n",
    "Y_test = custom_encoder(Y_test)\n",
    "X_test = text_transformation(X_test)\n",
    "X_test = cv.transform(X_test)\n",
    "y_pred = rfc.predict(X_test)"
   ]
  },
  {
   "cell_type": "code",
   "execution_count": null,
   "id": "f57f5922-8e1c-4384-bb2b-13d2f8ffb40d",
   "metadata": {},
   "outputs": [],
   "source": [
    "from sklearn.metrics import accuracy_score, confusion_matrix, classification_report\n",
    "\n",
    "acc_score = accuracy_score(Y_test, y_pred)\n",
    "print(\"Accuracy Score - \", acc_score)\n",
    "report = classification_report(Y_test, y_pred)"
   ]
  },
  {
   "cell_type": "code",
   "execution_count": null,
   "id": "fdd1ca2f-03f8-47eb-8a9d-0baf86a3f33a",
   "metadata": {},
   "outputs": [],
   "source": [
    "def expression_check(inputStr):\n",
    "    if inputStr == 1:\n",
    "        print(\"Input statement has positive sentiment\")\n",
    "    elif inputStr == 0:\n",
    "        print(\"Input statement has negative sentiment\")\n",
    "    else:\n",
    "        print(\"Invlaid output\")"
   ]
  },
  {
   "cell_type": "code",
   "execution_count": null,
   "id": "efd9ba14-883d-4f3d-9209-f3bacf73a637",
   "metadata": {},
   "outputs": [],
   "source": [
    "def sentiment_predictor(input):\n",
    "    inputStr = text_transformation(inputStr)\n",
    "    transform_text = cv.transform(inputStr)\n",
    "    prediction = rfc.predict(transform_text)\n",
    "    expression_check(prediction)"
   ]
  },
  {
   "cell_type": "code",
   "execution_count": null,
   "id": "4794e162-e5f0-48d9-b1ed-58bb9a081132",
   "metadata": {},
   "outputs": [],
   "source": [
    "input1 = [\"Sometimes I want to punch someone in the face.\"]\n",
    "input2 = [\"I travelled to Switzerland and The place is beautiful.\"]\n",
    "\n",
    "sentiment_predictor(input1)\n",
    "sentiment_predictor(input2)"
   ]
  },
  {
   "cell_type": "code",
   "execution_count": null,
   "id": "4ef5634e-3f8d-4f11-aca8-2168bcee883d",
   "metadata": {},
   "outputs": [],
   "source": []
  },
  {
   "cell_type": "code",
   "execution_count": null,
   "id": "aa8dd6ea-845e-478e-948f-0ba281864d8c",
   "metadata": {},
   "outputs": [],
   "source": []
  },
  {
   "cell_type": "code",
   "execution_count": null,
   "id": "9de177cd-d2e1-43d8-a76e-1fc232413387",
   "metadata": {},
   "outputs": [],
   "source": []
  },
  {
   "cell_type": "code",
   "execution_count": null,
   "id": "95549136-9dd9-407b-b2d8-6990e2110a59",
   "metadata": {},
   "outputs": [],
   "source": []
  },
  {
   "cell_type": "code",
   "execution_count": null,
   "id": "2552ccf7-c2c0-444d-8ce5-61244cfcf6ed",
   "metadata": {},
   "outputs": [],
   "source": []
  }
 ],
 "metadata": {
  "kernelspec": {
   "display_name": "Python 3 (ipykernel)",
   "language": "python",
   "name": "python3"
  },
  "language_info": {
   "codemirror_mode": {
    "name": "ipython",
    "version": 3
   },
   "file_extension": ".py",
   "mimetype": "text/x-python",
   "name": "python",
   "nbconvert_exporter": "python",
   "pygments_lexer": "ipython3",
   "version": "3.11.7"
  }
 },
 "nbformat": 4,
 "nbformat_minor": 5
}
