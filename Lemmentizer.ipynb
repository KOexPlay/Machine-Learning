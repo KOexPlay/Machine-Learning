{
 "cells": [
  {
   "cell_type": "code",
   "execution_count": 1,
   "id": "098464f0-cc71-4d39-8053-669b7b870637",
   "metadata": {},
   "outputs": [],
   "source": [
    "import nltk\n",
    "from nltk.stem import WordNetLemmatizer\n",
    "from nltk.corpus import stopwords\n",
    "\n"
   ]
  },
  {
   "cell_type": "code",
   "execution_count": 2,
   "id": "71607915-64de-4774-86b2-9c3c1ccaccbd",
   "metadata": {},
   "outputs": [],
   "source": [
    "paragraph = \"\"\"\n",
    "Samurai (侍) or bushi (武士, [bɯ.ɕi]) were members of the warrior class in Japan. They were originally provincial warriors who served the Kuge and imperial court in the late 12th century. Samurai eventually came to play a major political role until their abolition in the late 1870s during the Meiji era.[1][2]\n",
    "\n",
    "In the Heian period, powerful regional clans were relied on to put down rebellions. After power struggles, the Taira clan defeated the Minamoto clan in 1160.[3] After the Minamoto defeated the Taira in 1185, Minamoto no Yoritomo established the Kamakura shogunate, a parallel government that did not supplant the imperial court.[4][5] The warriors who served the Shogunate were called gokenin, landholding warriors whose retainers were called samurai.[6][7] Gokenin were regulated by the Samurai-dokoro.\n",
    "\"\"\""
   ]
  },
  {
   "cell_type": "code",
   "execution_count": 3,
   "id": "a704fb2e-48a7-478b-94f4-5d0d2118bc3f",
   "metadata": {},
   "outputs": [],
   "source": [
    "sentences = nltk.sent_tokenize(paragraph)\n",
    "lemmatizer = WordNetLemmatizer()"
   ]
  },
  {
   "cell_type": "code",
   "execution_count": 4,
   "id": "dfbe46dd-70cd-4485-8d06-c3e89c7f4bc4",
   "metadata": {},
   "outputs": [],
   "source": [
    "# Lemmantization\n",
    "for i in range(len(sentences)):\n",
    "    words = nltk.word_tokenize(sentences[i])\n",
    "    words = [lemmatizer.lemmatize(word) for word in words if word not in set(stopwords.words('english'))]\n",
    "    sentences[i] = ' '.join(words)\n"
   ]
  },
  {
   "cell_type": "code",
   "execution_count": 5,
   "id": "7fc8b4b5-6ddc-412b-830b-ccd5c80e90fc",
   "metadata": {},
   "outputs": [
    {
     "data": {
      "text/plain": [
       "['Samurai ( 侍 ) bushi ( 武士 , [ bɯ.ɕi ] ) member warrior class Japan .',\n",
       " 'They originally provincial warrior served Kuge imperial court late 12th century .',\n",
       " 'Samurai eventually came play major political role abolition late 1870s Meiji era .',\n",
       " '[ 1 ] [ 2 ] In Heian period , powerful regional clan relied put rebellion .',\n",
       " 'After power struggle , Taira clan defeated Minamoto clan 1160 .',\n",
       " '[ 3 ] After Minamoto defeated Taira 1185 , Minamoto Yoritomo established Kamakura shogunate , parallel government supplant imperial court .',\n",
       " '[ 4 ] [ 5 ] The warrior served Shogunate called gokenin , landholding warrior whose retainer called samurai .',\n",
       " '[ 6 ] [ 7 ] Gokenin regulated Samurai-dokoro .']"
      ]
     },
     "execution_count": 5,
     "metadata": {},
     "output_type": "execute_result"
    }
   ],
   "source": [
    "sentences"
   ]
  },
  {
   "cell_type": "code",
   "execution_count": null,
   "id": "6ba7a974-a4db-4e38-99ac-699bf9aa2d55",
   "metadata": {},
   "outputs": [],
   "source": []
  },
  {
   "cell_type": "code",
   "execution_count": null,
   "id": "a4f0bc14-4101-44ba-94ad-6b1d2aea9ad6",
   "metadata": {},
   "outputs": [],
   "source": []
  },
  {
   "cell_type": "code",
   "execution_count": null,
   "id": "a4ecfaeb-eb5f-4aff-9379-c9f2e7c4bf18",
   "metadata": {},
   "outputs": [],
   "source": []
  },
  {
   "cell_type": "code",
   "execution_count": null,
   "id": "b27fb01d-a465-47cc-a4a5-09a1e2f5928c",
   "metadata": {},
   "outputs": [],
   "source": []
  },
  {
   "cell_type": "code",
   "execution_count": null,
   "id": "971f6c9e-43e1-4886-a9b1-4952137794e0",
   "metadata": {},
   "outputs": [],
   "source": []
  }
 ],
 "metadata": {
  "kernelspec": {
   "display_name": "Python 3 (ipykernel)",
   "language": "python",
   "name": "python3"
  },
  "language_info": {
   "codemirror_mode": {
    "name": "ipython",
    "version": 3
   },
   "file_extension": ".py",
   "mimetype": "text/x-python",
   "name": "python",
   "nbconvert_exporter": "python",
   "pygments_lexer": "ipython3",
   "version": "3.11.7"
  }
 },
 "nbformat": 4,
 "nbformat_minor": 5
}
