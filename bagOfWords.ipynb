{
 "cells": [
  {
   "cell_type": "code",
   "execution_count": 1,
   "id": "e80a37fc-e903-43f7-bc60-38d012e292ad",
   "metadata": {},
   "outputs": [],
   "source": [
    "import nltk # natural language toolkit\n",
    "import re # Regula expression\n",
    "import numpy as np\n",
    "import warnings\n",
    "from nltk.corpus import stopwords\n",
    "from nltk.tokenize import sent_tokenize\n",
    "from nltk.stem import PorterStemmer, WordNetLemmatizer\n",
    "from sklearn.feature_extraction.text import CountVectorizer\n",
    "\n",
    "warnings.filterwarnings(\"ignore\")"
   ]
  },
  {
   "cell_type": "code",
   "execution_count": 2,
   "id": "03b677a3-5cff-4e0f-8cef-557004708f41",
   "metadata": {},
   "outputs": [],
   "source": [
    "paragraph = \"\"\"\n",
    "Samurai (侍) or bushi (武士, [bɯ.ɕi]) were members of the warrior class in Japan. They were originally provincial warriors who served the Kuge and imperial court in the late 12th century. Samurai eventually came to play a major political role until their abolition in the late 1870s during the Meiji era.[1][2]\n",
    "\n",
    "In the Heian period, powerful regional clans were relied on to put down rebellions. After power struggles, the Taira clan defeated the Minamoto clan in 1160.[3] After the Minamoto defeated the Taira in 1185, Minamoto no Yoritomo established the Kamakura shogunate, a parallel government that did not supplant the imperial court.[4][5] The warriors who served the Shogunate were called gokenin, landholding warriors whose retainers were called samurai.[6][7] Gokenin were regulated by the Samurai-dokoro.\n",
    "\"\"\""
   ]
  },
  {
   "cell_type": "code",
   "execution_count": 3,
   "id": "a1ec480f-8276-46f2-ac7c-0840b74f3ab0",
   "metadata": {},
   "outputs": [],
   "source": [
    "# initialise necessary objects\n",
    "\n",
    "ps = PorterStemmer()\n",
    "lemmatizer = WordNetLemmatizer()"
   ]
  },
  {
   "cell_type": "code",
   "execution_count": 4,
   "id": "e9afa4ab-1e1c-4f21-9461-2957f4ecb640",
   "metadata": {},
   "outputs": [],
   "source": [
    "sentences = sent_tokenize(paragraph)"
   ]
  },
  {
   "cell_type": "code",
   "execution_count": 5,
   "id": "258371a0-84e2-44b2-b5f0-a6df19e074bc",
   "metadata": {},
   "outputs": [
    {
     "data": {
      "text/plain": [
       "['\\nSamurai (侍) or bushi (武士, [bɯ.ɕi]) were members of the warrior class in Japan.',\n",
       " 'They were originally provincial warriors who served the Kuge and imperial court in the late 12th century.',\n",
       " 'Samurai eventually came to play a major political role until their abolition in the late 1870s during the Meiji era.',\n",
       " '[1][2]\\n\\nIn the Heian period, powerful regional clans were relied on to put down rebellions.',\n",
       " 'After power struggles, the Taira clan defeated the Minamoto clan in 1160.',\n",
       " '[3] After the Minamoto defeated the Taira in 1185, Minamoto no Yoritomo established the Kamakura shogunate, a parallel government that did not supplant the imperial court.',\n",
       " '[4][5] The warriors who served the Shogunate were called gokenin, landholding warriors whose retainers were called samurai.',\n",
       " '[6][7] Gokenin were regulated by the Samurai-dokoro.']"
      ]
     },
     "execution_count": 5,
     "metadata": {},
     "output_type": "execute_result"
    }
   ],
   "source": [
    "sentences"
   ]
  },
  {
   "cell_type": "code",
   "execution_count": 6,
   "id": "2105c4f7-0da2-4598-b35d-01245b853b77",
   "metadata": {},
   "outputs": [],
   "source": [
    "# Stopwords handling\n",
    "\n",
    "try:\n",
    "    stop_words = set(stopwords.words(\"english\"))\n",
    "except:\n",
    "    nltk.download(\"stopwords\")\n",
    "    stop_words = set(stopwords.words(\"english\"))"
   ]
  },
  {
   "cell_type": "code",
   "execution_count": 10,
   "id": "aff04e85-2744-43ba-bd92-f19c91271c6f",
   "metadata": {},
   "outputs": [],
   "source": [
    "# Preprocessing text\n",
    "\n",
    "corpus = []\n",
    "\n",
    "for sentence in sentences:\n",
    "    review = re.sub(r'[^a-zA-Z]', ' ', sentence)  # Remove non-alphabetic characters\n",
    "    review = review.lower()  # Convert to lowercase\n",
    "    review = review.split()  # Tokenize words\n",
    "    \n",
    "    # Stemming\n",
    "    review = [ps.stem(word) for word in review if word not in stop_words]\n",
    "    \n",
    "    # Join words back into a single string\n",
    "    review = ' '.join(review)\n",
    "    \n",
    "    corpus.append(review)"
   ]
  },
  {
   "cell_type": "code",
   "execution_count": 11,
   "id": "f45ffb41-2e53-4a56-9ec0-2034e1112a73",
   "metadata": {},
   "outputs": [],
   "source": [
    "# Creating bag of words model\n",
    "\n",
    "cv = CountVectorizer(max_features = 1500)\n",
    "X = cv.fit_transform(corpus).toarray()"
   ]
  },
  {
   "cell_type": "code",
   "execution_count": 12,
   "id": "abc39e9d-3a22-47a2-a7c2-9ff3816b9fce",
   "metadata": {},
   "outputs": [
    {
     "name": "stdout",
     "output_type": "stream",
     "text": [
      "Output from bag of words model is:\n",
      "  [[0 1 0 0 0 0 1 0 0 0 0 0 0 0 0 0 0 1 0 0 0 0 0 0 1 0 0 0 0 0 0 0 0 0 0 0\n",
      "  0 0 0 0 1 0 0 0 0 0 0 1 0 0]\n",
      " [0 0 0 0 1 0 0 1 0 0 0 0 0 0 0 0 1 0 0 1 0 1 0 0 0 0 1 0 0 0 0 0 1 0 0 0\n",
      "  0 0 0 0 0 1 0 0 0 0 1 1 0 0]\n",
      " [1 0 0 1 0 0 0 0 0 0 1 0 1 0 0 0 0 0 0 0 0 1 1 1 0 0 0 0 0 1 1 0 0 0 0 0\n",
      "  0 0 0 1 1 0 0 0 0 0 0 0 0 0]]\n"
     ]
    }
   ],
   "source": [
    "# Model output\n",
    "\n",
    "print(\"Output from bag of words model is:\\n \", X[ :3])"
   ]
  },
  {
   "cell_type": "code",
   "execution_count": null,
   "id": "7368a4ed-1c76-4b2a-aca7-5bf060efde6f",
   "metadata": {},
   "outputs": [],
   "source": []
  },
  {
   "cell_type": "code",
   "execution_count": null,
   "id": "96e0732b-a256-42bf-84ea-090a2d40e58e",
   "metadata": {},
   "outputs": [],
   "source": []
  },
  {
   "cell_type": "code",
   "execution_count": null,
   "id": "9e4d42d1-a9d4-407e-a605-bf934311c4ad",
   "metadata": {},
   "outputs": [],
   "source": []
  },
  {
   "cell_type": "code",
   "execution_count": null,
   "id": "1aad372e-c48c-4111-be80-61eaf6fea65c",
   "metadata": {},
   "outputs": [],
   "source": []
  },
  {
   "cell_type": "code",
   "execution_count": null,
   "id": "88f30f84-f01c-4774-b37f-e49bbdbd4f75",
   "metadata": {},
   "outputs": [],
   "source": []
  },
  {
   "cell_type": "code",
   "execution_count": null,
   "id": "2510771a-a13c-4f07-adff-d6a4356b29fd",
   "metadata": {},
   "outputs": [],
   "source": []
  },
  {
   "cell_type": "code",
   "execution_count": null,
   "id": "43465a45-92bd-479e-bca5-793735de37e2",
   "metadata": {},
   "outputs": [],
   "source": []
  },
  {
   "cell_type": "code",
   "execution_count": null,
   "id": "0704de40-45a2-4275-b08e-59c5d6d7df4c",
   "metadata": {},
   "outputs": [],
   "source": []
  },
  {
   "cell_type": "code",
   "execution_count": null,
   "id": "00f601c4-3664-4329-a911-458878bd4425",
   "metadata": {},
   "outputs": [],
   "source": []
  },
  {
   "cell_type": "code",
   "execution_count": 9,
   "id": "d95eca08-9f3f-4695-bb39-1d0f56de5cec",
   "metadata": {},
   "outputs": [
    {
     "name": "stdin",
     "output_type": "stream",
     "text": [
      "Enter a number:  asdfsafda\n"
     ]
    },
    {
     "name": "stdout",
     "output_type": "stream",
     "text": [
      "Invalid input! Please enter a valid integer.\n"
     ]
    }
   ],
   "source": [
    "def check_odd_even(): \n",
    "    try: \n",
    "        num = int(input(\"Enter a number: \")) # Taking user input \n",
    "        if num % 2 == 0: \n",
    "            print(f\"{num} is an Even number.\") \n",
    "        else: \n",
    "            print(f\"{num} is an Odd number.\") \n",
    "    except ValueError: \n",
    "        print(\"Invalid input! Please enter a valid integer.\") \n",
    "# Run the function \n",
    "check_odd_even()"
   ]
  }
 ],
 "metadata": {
  "kernelspec": {
   "display_name": "Python 3 (ipykernel)",
   "language": "python",
   "name": "python3"
  },
  "language_info": {
   "codemirror_mode": {
    "name": "ipython",
    "version": 3
   },
   "file_extension": ".py",
   "mimetype": "text/x-python",
   "name": "python",
   "nbconvert_exporter": "python",
   "pygments_lexer": "ipython3",
   "version": "3.11.7"
  }
 },
 "nbformat": 4,
 "nbformat_minor": 5
}
