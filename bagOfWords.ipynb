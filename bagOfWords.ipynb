{
 "cells": [
  {
   "cell_type": "code",
   "execution_count": 13,
   "id": "e80a37fc-e903-43f7-bc60-38d012e292ad",
   "metadata": {},
   "outputs": [],
   "source": [
    "import nltk # natural language toolkit\n",
    "import re # Regula expression\n",
    "import numpy as np\n",
    "import pandas as pd\n",
    "import warnings\n",
    "from nltk.corpus import stopwords\n",
    "from nltk.tokenize import sent_tokenize\n",
    "from nltk.stem import PorterStemmer, WordNetLemmatizer\n",
    "from sklearn.feature_extraction.text import CountVectorizer\n",
    "from nltk import word_tokenize\n",
    "\n",
    "warnings.filterwarnings(\"ignore\")"
   ]
  },
  {
   "cell_type": "code",
   "execution_count": 2,
   "id": "03b677a3-5cff-4e0f-8cef-557004708f41",
   "metadata": {},
   "outputs": [],
   "source": [
    "paragraph = \"\"\"\n",
    "Samurai (侍) or bushi (武士, [bɯ.ɕi]) were members of the warrior class in Japan. They were originally provincial warriors who served the Kuge and imperial court in the late 12th century. Samurai eventually came to play a major political role until their abolition in the late 1870s during the Meiji era.[1][2]\n",
    "\n",
    "In the Heian period, powerful regional clans were relied on to put down rebellions. After power struggles, the Taira clan defeated the Minamoto clan in 1160.[3] After the Minamoto defeated the Taira in 1185, Minamoto no Yoritomo established the Kamakura shogunate, a parallel government that did not supplant the imperial court.[4][5] The warriors who served the Shogunate were called gokenin, landholding warriors whose retainers were called samurai.[6][7] Gokenin were regulated by the Samurai-dokoro.\n",
    "\"\"\""
   ]
  },
  {
   "cell_type": "code",
   "execution_count": 3,
   "id": "a1ec480f-8276-46f2-ac7c-0840b74f3ab0",
   "metadata": {},
   "outputs": [],
   "source": [
    "# initialise necessary objects\n",
    "\n",
    "ps = PorterStemmer()\n",
    "lemmatizer = WordNetLemmatizer()"
   ]
  },
  {
   "cell_type": "code",
   "execution_count": 4,
   "id": "e9afa4ab-1e1c-4f21-9461-2957f4ecb640",
   "metadata": {},
   "outputs": [],
   "source": [
    "sentences = sent_tokenize(paragraph)"
   ]
  },
  {
   "cell_type": "code",
   "execution_count": 5,
   "id": "258371a0-84e2-44b2-b5f0-a6df19e074bc",
   "metadata": {},
   "outputs": [
    {
     "data": {
      "text/plain": [
       "['\\nSamurai (侍) or bushi (武士, [bɯ.ɕi]) were members of the warrior class in Japan.',\n",
       " 'They were originally provincial warriors who served the Kuge and imperial court in the late 12th century.',\n",
       " 'Samurai eventually came to play a major political role until their abolition in the late 1870s during the Meiji era.',\n",
       " '[1][2]\\n\\nIn the Heian period, powerful regional clans were relied on to put down rebellions.',\n",
       " 'After power struggles, the Taira clan defeated the Minamoto clan in 1160.',\n",
       " '[3] After the Minamoto defeated the Taira in 1185, Minamoto no Yoritomo established the Kamakura shogunate, a parallel government that did not supplant the imperial court.',\n",
       " '[4][5] The warriors who served the Shogunate were called gokenin, landholding warriors whose retainers were called samurai.',\n",
       " '[6][7] Gokenin were regulated by the Samurai-dokoro.']"
      ]
     },
     "execution_count": 5,
     "metadata": {},
     "output_type": "execute_result"
    }
   ],
   "source": [
    "sentences"
   ]
  },
  {
   "cell_type": "code",
   "execution_count": 6,
   "id": "2105c4f7-0da2-4598-b35d-01245b853b77",
   "metadata": {},
   "outputs": [],
   "source": [
    "# Stopwords handling\n",
    "\n",
    "try:\n",
    "    stop_words = set(stopwords.words(\"english\"))\n",
    "except:\n",
    "    nltk.download(\"stopwords\")\n",
    "    stop_words = set(stopwords.words(\"english\"))"
   ]
  },
  {
   "cell_type": "code",
   "execution_count": 10,
   "id": "aff04e85-2744-43ba-bd92-f19c91271c6f",
   "metadata": {},
   "outputs": [],
   "source": [
    "# Preprocessing text\n",
    "\n",
    "corpus = []\n",
    "\n",
    "for sentence in sentences:\n",
    "    review = re.sub(r'[^a-zA-Z]', ' ', sentence)  # Remove non-alphabetic characters\n",
    "    review = review.lower()  # Convert to lowercase\n",
    "    review = review.split()  # Tokenize words\n",
    "    \n",
    "    # Stemming\n",
    "    review = [ps.stem(word) for word in review if word not in stop_words]\n",
    "    \n",
    "    # Join words back into a single string\n",
    "    review = ' '.join(review)\n",
    "    \n",
    "    corpus.append(review)"
   ]
  },
  {
   "cell_type": "code",
   "execution_count": 11,
   "id": "f45ffb41-2e53-4a56-9ec0-2034e1112a73",
   "metadata": {},
   "outputs": [],
   "source": [
    "# Creating bag of words model\n",
    "\n",
    "cv = CountVectorizer(max_features = 1500)\n",
    "X = cv.fit_transform(corpus).toarray()"
   ]
  },
  {
   "cell_type": "code",
   "execution_count": 12,
   "id": "abc39e9d-3a22-47a2-a7c2-9ff3816b9fce",
   "metadata": {},
   "outputs": [
    {
     "name": "stdout",
     "output_type": "stream",
     "text": [
      "Output from bag of words model is:\n",
      "  [[0 1 0 0 0 0 1 0 0 0 0 0 0 0 0 0 0 1 0 0 0 0 0 0 1 0 0 0 0 0 0 0 0 0 0 0\n",
      "  0 0 0 0 1 0 0 0 0 0 0 1 0 0]\n",
      " [0 0 0 0 1 0 0 1 0 0 0 0 0 0 0 0 1 0 0 1 0 1 0 0 0 0 1 0 0 0 0 0 1 0 0 0\n",
      "  0 0 0 0 0 1 0 0 0 0 1 1 0 0]\n",
      " [1 0 0 1 0 0 0 0 0 0 1 0 1 0 0 0 0 0 0 0 0 1 1 1 0 0 0 0 0 1 1 0 0 0 0 0\n",
      "  0 0 0 1 1 0 0 0 0 0 0 0 0 0]]\n"
     ]
    }
   ],
   "source": [
    "# Model output\n",
    "\n",
    "print(\"Output from bag of words model is:\\n \", X[ :3])"
   ]
  },
  {
   "cell_type": "markdown",
   "id": "b97f601d-85f8-429d-9937-a621df98302c",
   "metadata": {},
   "source": [
    "## Bag of words using movie reviews"
   ]
  },
  {
   "cell_type": "code",
   "execution_count": 1,
   "id": "96e0732b-a256-42bf-84ea-090a2d40e58e",
   "metadata": {},
   "outputs": [],
   "source": [
    "review_1 = \"The movie was good and we really liked it\"\n",
    "review_2 = \"The movie was good but the ending was boring\"\n",
    "review_3 = \"We did not like the movie as it was too lengthy\""
   ]
  },
  {
   "cell_type": "code",
   "execution_count": 4,
   "id": "9e4d42d1-a9d4-407e-a605-bf934311c4ad",
   "metadata": {},
   "outputs": [],
   "source": [
    "review_1_tokens = word_tokenize(review_1)\n",
    "review_2_tokens = word_tokenize(review_2)\n",
    "review_3_tokens = word_tokenize(review_3)"
   ]
  },
  {
   "cell_type": "code",
   "execution_count": 5,
   "id": "fd6d6a75-9b30-4e98-bf2b-aef5abb2c86a",
   "metadata": {},
   "outputs": [
    {
     "data": {
      "text/plain": [
       "['The', 'movie', 'was', 'good', 'and', 'we', 'really', 'liked', 'it']"
      ]
     },
     "execution_count": 5,
     "metadata": {},
     "output_type": "execute_result"
    }
   ],
   "source": [
    "review_1_tokens"
   ]
  },
  {
   "cell_type": "code",
   "execution_count": 6,
   "id": "8796aae4-d77b-4603-9b48-408110b1f865",
   "metadata": {},
   "outputs": [
    {
     "data": {
      "text/plain": [
       "20"
      ]
     },
     "execution_count": 6,
     "metadata": {},
     "output_type": "execute_result"
    }
   ],
   "source": [
    "review_tokens = set(review_1_tokens).union(set(review_2_tokens)).union(set(review_3_tokens))\n",
    "len(review_tokens)"
   ]
  },
  {
   "cell_type": "code",
   "execution_count": 7,
   "id": "1ca10a0f-ca06-4b62-8fa3-7c4f9fafe18e",
   "metadata": {},
   "outputs": [
    {
     "data": {
      "text/plain": [
       "{'The',\n",
       " 'We',\n",
       " 'and',\n",
       " 'as',\n",
       " 'boring',\n",
       " 'but',\n",
       " 'did',\n",
       " 'ending',\n",
       " 'good',\n",
       " 'it',\n",
       " 'lengthy',\n",
       " 'like',\n",
       " 'liked',\n",
       " 'movie',\n",
       " 'not',\n",
       " 'really',\n",
       " 'the',\n",
       " 'too',\n",
       " 'was',\n",
       " 'we'}"
      ]
     },
     "execution_count": 7,
     "metadata": {},
     "output_type": "execute_result"
    }
   ],
   "source": [
    "review_tokens"
   ]
  },
  {
   "cell_type": "code",
   "execution_count": 8,
   "id": "9adb27ab-fb4a-4b46-a74f-c2dd006d3569",
   "metadata": {},
   "outputs": [
    {
     "data": {
      "text/plain": [
       "{'lengthy': 0,\n",
       " 'ending': 0,\n",
       " 'we': 0,\n",
       " 'We': 0,\n",
       " 'good': 0,\n",
       " 'too': 0,\n",
       " 'as': 0,\n",
       " 'but': 0,\n",
       " 'boring': 0,\n",
       " 'like': 0,\n",
       " 'The': 0,\n",
       " 'it': 0,\n",
       " 'really': 0,\n",
       " 'liked': 0,\n",
       " 'did': 0,\n",
       " 'and': 0,\n",
       " 'the': 0,\n",
       " 'was': 0,\n",
       " 'movie': 0,\n",
       " 'not': 0}"
      ]
     },
     "execution_count": 8,
     "metadata": {},
     "output_type": "execute_result"
    }
   ],
   "source": [
    "#Converting details to dictionary\n",
    "\n",
    "review_1_dict = dict.fromkeys(review_tokens, 0)\n",
    "review_1_dict"
   ]
  },
  {
   "cell_type": "code",
   "execution_count": 9,
   "id": "1aad372e-c48c-4111-be80-61eaf6fea65c",
   "metadata": {},
   "outputs": [
    {
     "data": {
      "text/plain": [
       "{'lengthy': 0,\n",
       " 'ending': 0,\n",
       " 'we': 1,\n",
       " 'We': 0,\n",
       " 'good': 1,\n",
       " 'too': 0,\n",
       " 'as': 0,\n",
       " 'but': 0,\n",
       " 'boring': 0,\n",
       " 'like': 0,\n",
       " 'The': 1,\n",
       " 'it': 1,\n",
       " 'really': 1,\n",
       " 'liked': 1,\n",
       " 'did': 0,\n",
       " 'and': 1,\n",
       " 'the': 0,\n",
       " 'was': 1,\n",
       " 'movie': 1,\n",
       " 'not': 0}"
      ]
     },
     "execution_count": 9,
     "metadata": {},
     "output_type": "execute_result"
    }
   ],
   "source": [
    "for token in review_1_tokens:\n",
    "    review_1_dict[token] += 1\n",
    "review_1_dict"
   ]
  },
  {
   "cell_type": "code",
   "execution_count": 10,
   "id": "88f30f84-f01c-4774-b37f-e49bbdbd4f75",
   "metadata": {},
   "outputs": [
    {
     "data": {
      "text/plain": [
       "{'lengthy': 0,\n",
       " 'ending': 1,\n",
       " 'we': 0,\n",
       " 'We': 0,\n",
       " 'good': 1,\n",
       " 'too': 0,\n",
       " 'as': 0,\n",
       " 'but': 1,\n",
       " 'boring': 1,\n",
       " 'like': 0,\n",
       " 'The': 1,\n",
       " 'it': 0,\n",
       " 'really': 0,\n",
       " 'liked': 0,\n",
       " 'did': 0,\n",
       " 'and': 0,\n",
       " 'the': 1,\n",
       " 'was': 2,\n",
       " 'movie': 1,\n",
       " 'not': 0}"
      ]
     },
     "execution_count": 10,
     "metadata": {},
     "output_type": "execute_result"
    }
   ],
   "source": [
    "review_2_dict = dict.fromkeys(review_tokens, 0)\n",
    "for token in review_2_tokens:\n",
    "    review_2_dict[token] += 1\n",
    "review_2_dict"
   ]
  },
  {
   "cell_type": "code",
   "execution_count": 11,
   "id": "2510771a-a13c-4f07-adff-d6a4356b29fd",
   "metadata": {},
   "outputs": [
    {
     "data": {
      "text/plain": [
       "{'lengthy': 1,\n",
       " 'ending': 0,\n",
       " 'we': 0,\n",
       " 'We': 1,\n",
       " 'good': 0,\n",
       " 'too': 1,\n",
       " 'as': 1,\n",
       " 'but': 0,\n",
       " 'boring': 0,\n",
       " 'like': 1,\n",
       " 'The': 0,\n",
       " 'it': 1,\n",
       " 'really': 0,\n",
       " 'liked': 0,\n",
       " 'did': 1,\n",
       " 'and': 0,\n",
       " 'the': 1,\n",
       " 'was': 1,\n",
       " 'movie': 1,\n",
       " 'not': 1}"
      ]
     },
     "execution_count": 11,
     "metadata": {},
     "output_type": "execute_result"
    }
   ],
   "source": [
    "review_3_dict = dict.fromkeys(review_tokens, 0)\n",
    "for token in review_3_tokens:\n",
    "    review_3_dict[token] += 1\n",
    "review_3_dict"
   ]
  },
  {
   "cell_type": "code",
   "execution_count": 14,
   "id": "43465a45-92bd-479e-bca5-793735de37e2",
   "metadata": {},
   "outputs": [
    {
     "data": {
      "text/html": [
       "<div>\n",
       "<style scoped>\n",
       "    .dataframe tbody tr th:only-of-type {\n",
       "        vertical-align: middle;\n",
       "    }\n",
       "\n",
       "    .dataframe tbody tr th {\n",
       "        vertical-align: top;\n",
       "    }\n",
       "\n",
       "    .dataframe thead th {\n",
       "        text-align: right;\n",
       "    }\n",
       "</style>\n",
       "<table border=\"1\" class=\"dataframe\">\n",
       "  <thead>\n",
       "    <tr style=\"text-align: right;\">\n",
       "      <th></th>\n",
       "      <th>lengthy</th>\n",
       "      <th>ending</th>\n",
       "      <th>we</th>\n",
       "      <th>We</th>\n",
       "      <th>good</th>\n",
       "      <th>too</th>\n",
       "      <th>as</th>\n",
       "      <th>but</th>\n",
       "      <th>boring</th>\n",
       "      <th>like</th>\n",
       "      <th>The</th>\n",
       "      <th>it</th>\n",
       "      <th>really</th>\n",
       "      <th>liked</th>\n",
       "      <th>did</th>\n",
       "      <th>and</th>\n",
       "      <th>the</th>\n",
       "      <th>was</th>\n",
       "      <th>movie</th>\n",
       "      <th>not</th>\n",
       "    </tr>\n",
       "  </thead>\n",
       "  <tbody>\n",
       "    <tr>\n",
       "      <th>0</th>\n",
       "      <td>0</td>\n",
       "      <td>0</td>\n",
       "      <td>1</td>\n",
       "      <td>0</td>\n",
       "      <td>1</td>\n",
       "      <td>0</td>\n",
       "      <td>0</td>\n",
       "      <td>0</td>\n",
       "      <td>0</td>\n",
       "      <td>0</td>\n",
       "      <td>1</td>\n",
       "      <td>1</td>\n",
       "      <td>1</td>\n",
       "      <td>1</td>\n",
       "      <td>0</td>\n",
       "      <td>1</td>\n",
       "      <td>0</td>\n",
       "      <td>1</td>\n",
       "      <td>1</td>\n",
       "      <td>0</td>\n",
       "    </tr>\n",
       "    <tr>\n",
       "      <th>1</th>\n",
       "      <td>0</td>\n",
       "      <td>1</td>\n",
       "      <td>0</td>\n",
       "      <td>0</td>\n",
       "      <td>1</td>\n",
       "      <td>0</td>\n",
       "      <td>0</td>\n",
       "      <td>1</td>\n",
       "      <td>1</td>\n",
       "      <td>0</td>\n",
       "      <td>1</td>\n",
       "      <td>0</td>\n",
       "      <td>0</td>\n",
       "      <td>0</td>\n",
       "      <td>0</td>\n",
       "      <td>0</td>\n",
       "      <td>1</td>\n",
       "      <td>2</td>\n",
       "      <td>1</td>\n",
       "      <td>0</td>\n",
       "    </tr>\n",
       "    <tr>\n",
       "      <th>2</th>\n",
       "      <td>1</td>\n",
       "      <td>0</td>\n",
       "      <td>0</td>\n",
       "      <td>1</td>\n",
       "      <td>0</td>\n",
       "      <td>1</td>\n",
       "      <td>1</td>\n",
       "      <td>0</td>\n",
       "      <td>0</td>\n",
       "      <td>1</td>\n",
       "      <td>0</td>\n",
       "      <td>1</td>\n",
       "      <td>0</td>\n",
       "      <td>0</td>\n",
       "      <td>1</td>\n",
       "      <td>0</td>\n",
       "      <td>1</td>\n",
       "      <td>1</td>\n",
       "      <td>1</td>\n",
       "      <td>1</td>\n",
       "    </tr>\n",
       "  </tbody>\n",
       "</table>\n",
       "</div>"
      ],
      "text/plain": [
       "   lengthy  ending  we  We  good  too  as  but  boring  like  The  it  really  \\\n",
       "0        0       0   1   0     1    0   0    0       0     0    1   1       1   \n",
       "1        0       1   0   0     1    0   0    1       1     0    1   0       0   \n",
       "2        1       0   0   1     0    1   1    0       0     1    0   1       0   \n",
       "\n",
       "   liked  did  and  the  was  movie  not  \n",
       "0      1    0    1    0    1      1    0  \n",
       "1      0    0    0    1    2      1    0  \n",
       "2      0    1    0    1    1      1    1  "
      ]
     },
     "execution_count": 14,
     "metadata": {},
     "output_type": "execute_result"
    }
   ],
   "source": [
    "reviews_dictionary_df = pd.DataFrame([review_1_dict, review_2_dict, review_3_dict])\n",
    "reviews_dictionary_df"
   ]
  },
  {
   "cell_type": "markdown",
   "id": "1c802323-35c7-4408-8694-9061ff5e0594",
   "metadata": {},
   "source": [
    "# Count vectorizer"
   ]
  },
  {
   "cell_type": "code",
   "execution_count": 15,
   "id": "56630323-1343-470c-8d17-61371b7e02fd",
   "metadata": {},
   "outputs": [],
   "source": [
    "from sklearn.feature_extraction.text import CountVectorizer\n",
    "review_list = [review_1, review_2, review_3]\n",
    "\n",
    "count_vect = CountVectorizer()\n",
    "X_counts = count_vect.fit_transform(review_list)"
   ]
  },
  {
   "cell_type": "code",
   "execution_count": 16,
   "id": "b5019949-842b-4bfc-b37c-6a29191685dc",
   "metadata": {},
   "outputs": [
    {
     "data": {
      "text/plain": [
       "<3x18 sparse matrix of type '<class 'numpy.int64'>'\n",
       "\twith 27 stored elements in Compressed Sparse Row format>"
      ]
     },
     "execution_count": 16,
     "metadata": {},
     "output_type": "execute_result"
    }
   ],
   "source": [
    "X_counts"
   ]
  },
  {
   "cell_type": "code",
   "execution_count": 17,
   "id": "529fcd34-8146-4fd5-86ee-43fb281e50a1",
   "metadata": {},
   "outputs": [
    {
     "data": {
      "text/plain": [
       "array(['and', 'as', 'boring', 'but', 'did', 'ending', 'good', 'it',\n",
       "       'lengthy', 'like', 'liked', 'movie', 'not', 'really', 'the', 'too',\n",
       "       'was', 'we'], dtype=object)"
      ]
     },
     "execution_count": 17,
     "metadata": {},
     "output_type": "execute_result"
    }
   ],
   "source": [
    "X_names = count_vect.get_feature_names_out()\n",
    "X_names"
   ]
  },
  {
   "cell_type": "code",
   "execution_count": 18,
   "id": "bade4ff1-72ee-432d-8e54-c9442be265f9",
   "metadata": {},
   "outputs": [
    {
     "data": {
      "text/html": [
       "<div>\n",
       "<style scoped>\n",
       "    .dataframe tbody tr th:only-of-type {\n",
       "        vertical-align: middle;\n",
       "    }\n",
       "\n",
       "    .dataframe tbody tr th {\n",
       "        vertical-align: top;\n",
       "    }\n",
       "\n",
       "    .dataframe thead th {\n",
       "        text-align: right;\n",
       "    }\n",
       "</style>\n",
       "<table border=\"1\" class=\"dataframe\">\n",
       "  <thead>\n",
       "    <tr style=\"text-align: right;\">\n",
       "      <th></th>\n",
       "      <th>and</th>\n",
       "      <th>as</th>\n",
       "      <th>boring</th>\n",
       "      <th>but</th>\n",
       "      <th>did</th>\n",
       "      <th>ending</th>\n",
       "      <th>good</th>\n",
       "      <th>it</th>\n",
       "      <th>lengthy</th>\n",
       "      <th>like</th>\n",
       "      <th>liked</th>\n",
       "      <th>movie</th>\n",
       "      <th>not</th>\n",
       "      <th>really</th>\n",
       "      <th>the</th>\n",
       "      <th>too</th>\n",
       "      <th>was</th>\n",
       "      <th>we</th>\n",
       "    </tr>\n",
       "  </thead>\n",
       "  <tbody>\n",
       "    <tr>\n",
       "      <th>0</th>\n",
       "      <td>1</td>\n",
       "      <td>0</td>\n",
       "      <td>0</td>\n",
       "      <td>0</td>\n",
       "      <td>0</td>\n",
       "      <td>0</td>\n",
       "      <td>1</td>\n",
       "      <td>1</td>\n",
       "      <td>0</td>\n",
       "      <td>0</td>\n",
       "      <td>1</td>\n",
       "      <td>1</td>\n",
       "      <td>0</td>\n",
       "      <td>1</td>\n",
       "      <td>1</td>\n",
       "      <td>0</td>\n",
       "      <td>1</td>\n",
       "      <td>1</td>\n",
       "    </tr>\n",
       "    <tr>\n",
       "      <th>1</th>\n",
       "      <td>0</td>\n",
       "      <td>0</td>\n",
       "      <td>1</td>\n",
       "      <td>1</td>\n",
       "      <td>0</td>\n",
       "      <td>1</td>\n",
       "      <td>1</td>\n",
       "      <td>0</td>\n",
       "      <td>0</td>\n",
       "      <td>0</td>\n",
       "      <td>0</td>\n",
       "      <td>1</td>\n",
       "      <td>0</td>\n",
       "      <td>0</td>\n",
       "      <td>2</td>\n",
       "      <td>0</td>\n",
       "      <td>2</td>\n",
       "      <td>0</td>\n",
       "    </tr>\n",
       "    <tr>\n",
       "      <th>2</th>\n",
       "      <td>0</td>\n",
       "      <td>1</td>\n",
       "      <td>0</td>\n",
       "      <td>0</td>\n",
       "      <td>1</td>\n",
       "      <td>0</td>\n",
       "      <td>0</td>\n",
       "      <td>1</td>\n",
       "      <td>1</td>\n",
       "      <td>1</td>\n",
       "      <td>0</td>\n",
       "      <td>1</td>\n",
       "      <td>1</td>\n",
       "      <td>0</td>\n",
       "      <td>1</td>\n",
       "      <td>1</td>\n",
       "      <td>1</td>\n",
       "      <td>1</td>\n",
       "    </tr>\n",
       "  </tbody>\n",
       "</table>\n",
       "</div>"
      ],
      "text/plain": [
       "   and  as  boring  but  did  ending  good  it  lengthy  like  liked  movie  \\\n",
       "0    1   0       0    0    0       0     1   1        0     0      1      1   \n",
       "1    0   0       1    1    0       1     1   0        0     0      0      1   \n",
       "2    0   1       0    0    1       0     0   1        1     1      0      1   \n",
       "\n",
       "   not  really  the  too  was  we  \n",
       "0    0       1    1    0    1   1  \n",
       "1    0       0    2    0    2   0  \n",
       "2    1       0    1    1    1   1  "
      ]
     },
     "execution_count": 18,
     "metadata": {},
     "output_type": "execute_result"
    }
   ],
   "source": [
    "a = pd.DataFrame(X_counts.toarray(), columns = X_names)\n",
    "a"
   ]
  },
  {
   "cell_type": "code",
   "execution_count": null,
   "id": "30ab87cf-55f0-45b9-8de3-faaeafec5947",
   "metadata": {},
   "outputs": [],
   "source": []
  },
  {
   "cell_type": "code",
   "execution_count": null,
   "id": "e411b882-cea2-4ffd-ab16-e79742b971bb",
   "metadata": {},
   "outputs": [],
   "source": []
  },
  {
   "cell_type": "code",
   "execution_count": null,
   "id": "97552da9-1cb2-479b-90f1-ad59c161b969",
   "metadata": {},
   "outputs": [],
   "source": []
  },
  {
   "cell_type": "code",
   "execution_count": null,
   "id": "3718260f-d974-4e07-bce6-e3aeb9869cd5",
   "metadata": {},
   "outputs": [],
   "source": []
  },
  {
   "cell_type": "code",
   "execution_count": null,
   "id": "963d9148-5381-40f6-ac5b-562b53da3868",
   "metadata": {},
   "outputs": [],
   "source": []
  },
  {
   "cell_type": "code",
   "execution_count": null,
   "id": "0a154137-90b1-4b0a-a120-8c6503667ef8",
   "metadata": {},
   "outputs": [],
   "source": []
  },
  {
   "cell_type": "code",
   "execution_count": null,
   "id": "b18a3234-2ac7-4ab7-b3ee-f467368be185",
   "metadata": {},
   "outputs": [],
   "source": []
  },
  {
   "cell_type": "code",
   "execution_count": null,
   "id": "68ba2060-91c1-4bfb-9d28-0f8a46947465",
   "metadata": {},
   "outputs": [],
   "source": []
  },
  {
   "cell_type": "code",
   "execution_count": null,
   "id": "0704de40-45a2-4275-b08e-59c5d6d7df4c",
   "metadata": {},
   "outputs": [],
   "source": []
  },
  {
   "cell_type": "code",
   "execution_count": null,
   "id": "00f601c4-3664-4329-a911-458878bd4425",
   "metadata": {},
   "outputs": [],
   "source": []
  }
 ],
 "metadata": {
  "kernelspec": {
   "display_name": "Python 3 (ipykernel)",
   "language": "python",
   "name": "python3"
  },
  "language_info": {
   "codemirror_mode": {
    "name": "ipython",
    "version": 3
   },
   "file_extension": ".py",
   "mimetype": "text/x-python",
   "name": "python",
   "nbconvert_exporter": "python",
   "pygments_lexer": "ipython3",
   "version": "3.11.7"
  }
 },
 "nbformat": 4,
 "nbformat_minor": 5
}
