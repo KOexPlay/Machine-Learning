{
 "cells": [
  {
   "cell_type": "code",
   "execution_count": 2,
   "id": "3dd07185-3641-4bb8-8ef8-a702872440fc",
   "metadata": {},
   "outputs": [],
   "source": [
    "import numpy as np\n",
    "import pandas as pd\n",
    "import matplotlib.pyplot as plt\n",
    "import seaborn as sns\n",
    "from sklearn.model_selection import train_test_split\n",
    "from sklearn.preprocessing import StandardScaler, LabelEncoder\n",
    "from sklearn.neighbors import KNeighborsClassifier\n",
    "from sklearn.metrics import classification_report, confusion_matrix"
   ]
  },
  {
   "cell_type": "code",
   "execution_count": 4,
   "id": "f52b3908-1961-4201-af45-ecb1f61527cd",
   "metadata": {},
   "outputs": [
    {
     "data": {
      "text/html": [
       "<div>\n",
       "<style scoped>\n",
       "    .dataframe tbody tr th:only-of-type {\n",
       "        vertical-align: middle;\n",
       "    }\n",
       "\n",
       "    .dataframe tbody tr th {\n",
       "        vertical-align: top;\n",
       "    }\n",
       "\n",
       "    .dataframe thead th {\n",
       "        text-align: right;\n",
       "    }\n",
       "</style>\n",
       "<table border=\"1\" class=\"dataframe\">\n",
       "  <thead>\n",
       "    <tr style=\"text-align: right;\">\n",
       "      <th></th>\n",
       "      <th>sepal_length</th>\n",
       "      <th>sepal_width</th>\n",
       "      <th>petal_length</th>\n",
       "      <th>petal_width</th>\n",
       "      <th>species</th>\n",
       "    </tr>\n",
       "  </thead>\n",
       "  <tbody>\n",
       "    <tr>\n",
       "      <th>0</th>\n",
       "      <td>5.1</td>\n",
       "      <td>3.5</td>\n",
       "      <td>1.4</td>\n",
       "      <td>0.2</td>\n",
       "      <td>setosa</td>\n",
       "    </tr>\n",
       "    <tr>\n",
       "      <th>1</th>\n",
       "      <td>4.9</td>\n",
       "      <td>3.0</td>\n",
       "      <td>1.4</td>\n",
       "      <td>0.2</td>\n",
       "      <td>setosa</td>\n",
       "    </tr>\n",
       "    <tr>\n",
       "      <th>2</th>\n",
       "      <td>4.7</td>\n",
       "      <td>3.2</td>\n",
       "      <td>1.3</td>\n",
       "      <td>0.2</td>\n",
       "      <td>setosa</td>\n",
       "    </tr>\n",
       "    <tr>\n",
       "      <th>3</th>\n",
       "      <td>4.6</td>\n",
       "      <td>3.1</td>\n",
       "      <td>1.5</td>\n",
       "      <td>0.2</td>\n",
       "      <td>setosa</td>\n",
       "    </tr>\n",
       "    <tr>\n",
       "      <th>4</th>\n",
       "      <td>5.0</td>\n",
       "      <td>3.6</td>\n",
       "      <td>1.4</td>\n",
       "      <td>0.2</td>\n",
       "      <td>setosa</td>\n",
       "    </tr>\n",
       "  </tbody>\n",
       "</table>\n",
       "</div>"
      ],
      "text/plain": [
       "   sepal_length  sepal_width  petal_length  petal_width species\n",
       "0           5.1          3.5           1.4          0.2  setosa\n",
       "1           4.9          3.0           1.4          0.2  setosa\n",
       "2           4.7          3.2           1.3          0.2  setosa\n",
       "3           4.6          3.1           1.5          0.2  setosa\n",
       "4           5.0          3.6           1.4          0.2  setosa"
      ]
     },
     "execution_count": 4,
     "metadata": {},
     "output_type": "execute_result"
    }
   ],
   "source": [
    "iris = pd.read_csv(\"iri_data.csv\")\n",
    "iris.head()"
   ]
  },
  {
   "cell_type": "code",
   "execution_count": 5,
   "id": "7c8387b4-af3e-4b12-a1fa-0a7781a62b4d",
   "metadata": {},
   "outputs": [],
   "source": [
    "X = iris[[\"sepal_length\", \"sepal_width\", \"petal_length\", \"petal_width\"]] \n",
    "Y = iris[\"species\"]"
   ]
  },
  {
   "cell_type": "code",
   "execution_count": 7,
   "id": "e4226c90-171c-41a0-b98d-31235b394900",
   "metadata": {},
   "outputs": [
    {
     "data": {
      "text/plain": [
       "0    setosa\n",
       "1    setosa\n",
       "2    setosa\n",
       "3    setosa\n",
       "4    setosa\n",
       "Name: species, dtype: object"
      ]
     },
     "execution_count": 7,
     "metadata": {},
     "output_type": "execute_result"
    }
   ],
   "source": [
    "X.head()\n",
    "Y.head()"
   ]
  },
  {
   "cell_type": "code",
   "execution_count": 8,
   "id": "e3d2c3ad-41d0-4302-8674-2cb263c4b3bc",
   "metadata": {},
   "outputs": [],
   "source": [
    "x_train, x_test, y_train, y_test = train_test_split(X, Y, test_size = 0.2, random_state = 5)"
   ]
  },
  {
   "cell_type": "code",
   "execution_count": 9,
   "id": "48d63336-621a-4e63-88c8-285597e50a4a",
   "metadata": {},
   "outputs": [
    {
     "data": {
      "text/plain": [
       "array([[-0.88140924,  0.72750289, -1.23547394, -1.26527703],\n",
       "       [-0.40389633, -1.69139841,  0.17434798,  0.16834158],\n",
       "       [-0.16513988, -1.03169805, -0.10761641, -0.22264531],\n",
       "       [-0.52327456,  1.38720324, -1.23547394, -1.26527703],\n",
       "       [ 1.38677706,  0.28770265,  0.56909811,  0.29867054],\n",
       "       [-1.00078746,  0.50760277, -1.29186681, -1.26527703],\n",
       "       [-1.00078746,  0.94740301, -1.17908106, -0.74396117],\n",
       "       [ 2.22242464, -0.15209758,  1.35859839,  1.47163122],\n",
       "       [-1.00078746,  0.94740301, -1.34825969, -1.13494806],\n",
       "       [ 0.6705077 ,  0.28770265,  0.90745537,  1.47163122],\n",
       "       [-0.04576165, -0.81179793,  0.79466962,  0.95031536],\n",
       "       [-0.28451811, -1.25159817,  0.1179551 , -0.09231635],\n",
       "       [-0.88140924,  0.94740301, -1.29186681, -1.13494806],\n",
       "       [-0.88140924,  1.60710336, -1.17908106, -1.26527703],\n",
       "       [ 0.78988593, -0.59189782,  0.51270524,  0.42899951],\n",
       "       [ 0.43175125, -0.59189782,  0.62549099,  0.8199864 ],\n",
       "       [ 0.07361657, -0.15209758,  0.28713373,  0.42899951],\n",
       "       [ 1.02864238,  0.50760277,  1.13302688,  1.21097329],\n",
       "       [ 2.22242464,  1.60710336,  1.69695564,  1.34130226],\n",
       "       [-0.52327456,  0.72750289, -1.12268818, -1.26527703],\n",
       "       [ 0.55112948, -1.25159817,  0.73827674,  0.95031536],\n",
       "       [-1.00078746,  0.28770265, -1.40465257, -1.26527703],\n",
       "       [-1.47830037,  0.72750289, -1.29186681, -1.13494806],\n",
       "       [-0.16513988,  2.92650407, -1.23547394, -1.0046191 ],\n",
       "       [-0.76203101,  0.72750289, -1.29186681, -1.26527703],\n",
       "       [ 0.43175125, -0.3719977 ,  0.34352661,  0.16834158],\n",
       "       [ 0.55112948,  0.50760277,  0.56909811,  0.55932847],\n",
       "       [-0.40389633, -1.47149829,  0.00516935, -0.22264531],\n",
       "       [-0.88140924, -1.25159817, -0.38958079, -0.09231635],\n",
       "       [ 0.07361657, -0.15209758,  0.79466962,  0.8199864 ],\n",
       "       [-1.00078746, -2.35109876, -0.10761641, -0.22264531],\n",
       "       [ 0.78988593, -0.15209758,  0.8510625 ,  1.08064433],\n",
       "       [ 0.78988593, -0.15209758,  1.18941976,  1.34130226],\n",
       "       [ 1.26739883,  0.06780254,  0.68188387,  0.42899951],\n",
       "       [-1.47830037,  1.16730313, -1.51743832, -1.26527703],\n",
       "       [ 0.90926416, -0.15209758,  0.39991948,  0.29867054],\n",
       "       [-1.12016569,  0.06780254, -1.23547394, -1.39560599],\n",
       "       [ 1.02864238, -0.15209758,  0.73827674,  0.68965743],\n",
       "       [ 1.02864238, -0.15209758,  0.8510625 ,  1.47163122],\n",
       "       [-0.28451811, -0.3719977 , -0.05122353,  0.16834158],\n",
       "       [ 0.55112948,  0.72750289,  1.076634  ,  1.60196018],\n",
       "       [-0.28451811, -0.81179793,  0.28713373,  0.16834158],\n",
       "       [ 0.31237303, -0.15209758,  0.68188387,  0.8199864 ],\n",
       "       [ 0.55112948, -1.69139841,  0.39991948,  0.16834158],\n",
       "       [-0.04576165, -1.03169805,  0.17434798,  0.03801261],\n",
       "       [-0.16513988, -0.15209758,  0.28713373,  0.03801261],\n",
       "       [ 1.26739883,  0.06780254,  0.96384825,  1.21097329],\n",
       "       [ 1.14802061, -0.59189782,  0.62549099,  0.29867054],\n",
       "       [-0.76203101,  2.26680371, -1.23547394, -1.39560599],\n",
       "       [-0.04576165, -0.81179793,  0.79466962,  0.95031536],\n",
       "       [-1.83643505, -0.15209758, -1.46104544, -1.39560599],\n",
       "       [-1.23954391,  0.72750289, -1.00990243, -1.26527703],\n",
       "       [-0.76203101, -0.81179793,  0.1179551 ,  0.29867054],\n",
       "       [-1.23954391, -0.15209758, -1.29186681, -1.13494806],\n",
       "       [-1.12016569,  0.06780254, -1.23547394, -1.39560599],\n",
       "       [ 2.4611811 ,  1.60710336,  1.52777701,  1.08064433],\n",
       "       [-1.00078746, -1.69139841, -0.22040216, -0.22264531],\n",
       "       [-1.47830037,  0.28770265, -1.29186681, -1.26527703],\n",
       "       [ 0.78988593, -0.15209758,  1.02024113,  0.8199864 ],\n",
       "       [-1.12016569,  0.06780254, -1.23547394, -1.39560599],\n",
       "       [ 0.1929948 , -1.91129852,  0.73827674,  0.42899951],\n",
       "       [-0.40389633, -1.03169805,  0.39991948,  0.03801261],\n",
       "       [-0.04576165,  2.0469036 , -1.40465257, -1.26527703],\n",
       "       [-0.52327456,  1.82700348, -1.34825969, -1.0046191 ],\n",
       "       [ 0.6705077 , -0.81179793,  0.90745537,  0.95031536],\n",
       "       [ 0.1929948 ,  0.72750289,  0.45631236,  0.55932847],\n",
       "       [-0.40389633, -1.25159817,  0.17434798,  0.16834158],\n",
       "       [-0.40389633,  2.48670383, -1.29186681, -1.26527703],\n",
       "       [-1.35892214,  0.28770265, -1.17908106, -1.26527703],\n",
       "       [ 1.26739883,  0.28770265,  1.13302688,  1.47163122],\n",
       "       [ 0.1929948 , -0.3719977 ,  0.45631236,  0.42899951],\n",
       "       [ 0.31237303, -0.15209758,  0.51270524,  0.29867054],\n",
       "       [-1.47830037,  0.06780254, -1.23547394, -1.26527703],\n",
       "       [-0.16513988, -0.59189782,  0.45631236,  0.16834158],\n",
       "       [ 0.1929948 , -0.15209758,  0.62549099,  0.8199864 ],\n",
       "       [-0.04576165, -0.81179793,  0.23074085, -0.22264531],\n",
       "       [-1.23954391,  0.72750289, -1.17908106, -1.26527703],\n",
       "       [ 0.1929948 , -1.91129852,  0.17434798, -0.22264531],\n",
       "       [ 0.6705077 ,  0.06780254,  1.02024113,  0.8199864 ],\n",
       "       [ 1.02864238, -1.25159817,  1.18941976,  0.8199864 ],\n",
       "       [ 0.55112948,  0.50760277,  1.30220551,  1.73228915],\n",
       "       [ 1.14802061,  0.28770265,  1.24581263,  1.47163122],\n",
       "       [-0.16513988,  1.60710336, -1.12268818, -1.13494806],\n",
       "       [-0.88140924,  1.60710336, -1.23547394, -1.13494806],\n",
       "       [ 0.1929948 , -0.81179793,  0.79466962,  0.55932847],\n",
       "       [ 2.22242464, -0.59189782,  1.69695564,  1.08064433],\n",
       "       [-1.71705682, -0.15209758, -1.34825969, -1.26527703],\n",
       "       [ 0.43175125, -1.91129852,  0.45631236,  0.42899951],\n",
       "       [-1.35892214,  0.28770265, -1.34825969, -1.26527703],\n",
       "       [-0.52327456,  0.72750289, -1.23547394, -1.0046191 ],\n",
       "       [ 1.02864238,  0.06780254,  1.076634  ,  1.60196018],\n",
       "       [ 0.6705077 ,  0.28770265,  0.45631236,  0.42899951],\n",
       "       [ 2.10304642, -0.15209758,  1.64056277,  1.21097329],\n",
       "       [-0.40389633,  0.94740301, -1.34825969, -1.26527703],\n",
       "       [ 0.78988593,  0.28770265,  0.79466962,  1.08064433],\n",
       "       [-1.00078746,  1.16730313, -1.29186681, -1.26527703],\n",
       "       [ 1.26739883,  0.06780254,  0.79466962,  1.47163122],\n",
       "       [-0.88140924,  0.94740301, -1.29186681, -1.26527703],\n",
       "       [ 0.90926416, -0.3719977 ,  0.51270524,  0.16834158],\n",
       "       [-0.52327456,  1.82700348, -1.12268818, -1.0046191 ],\n",
       "       [ 0.55112948, -0.3719977 ,  1.076634  ,  0.8199864 ],\n",
       "       [ 1.62553351, -0.15209758,  1.18941976,  0.55932847],\n",
       "       [-1.59767859, -1.69139841, -1.34825969, -1.13494806],\n",
       "       [-1.12016569, -1.25159817,  0.45631236,  0.68965743],\n",
       "       [-0.28451811, -0.59189782,  0.68188387,  1.08064433],\n",
       "       [ 1.62553351,  0.28770265,  1.30220551,  0.8199864 ],\n",
       "       [ 1.02864238,  0.06780254,  0.56909811,  0.42899951],\n",
       "       [-1.23954391,  0.06780254, -1.17908106, -1.26527703],\n",
       "       [ 1.02864238,  0.06780254,  0.39991948,  0.29867054],\n",
       "       [-0.88140924,  1.60710336, -1.00990243, -1.0046191 ],\n",
       "       [-0.76203101,  0.94740301, -1.23547394, -1.26527703],\n",
       "       [-0.40389633, -1.47149829,  0.06156222, -0.09231635],\n",
       "       [-0.16513988, -1.25159817,  0.73827674,  1.08064433],\n",
       "       [-1.00078746,  0.72750289, -1.23547394, -1.26527703],\n",
       "       [ 1.14802061, -0.15209758,  1.02024113,  1.21097329],\n",
       "       [-1.71705682, -0.3719977 , -1.29186681, -1.26527703],\n",
       "       [ 0.31237303, -0.59189782,  0.56909811,  0.03801261],\n",
       "       [ 1.02864238,  0.50760277,  1.13302688,  1.73228915],\n",
       "       [ 2.22242464, -1.03169805,  1.8097414 ,  1.47163122],\n",
       "       [-0.16513988, -0.59189782,  0.23074085,  0.16834158]])"
      ]
     },
     "execution_count": 9,
     "metadata": {},
     "output_type": "execute_result"
    }
   ],
   "source": [
    "standard_scalar = StandardScaler()\n",
    "standard_scalar.fit_transform(x_train)"
   ]
  },
  {
   "cell_type": "code",
   "execution_count": 10,
   "id": "b4eecf95-586e-4141-ade9-7d325b28343f",
   "metadata": {},
   "outputs": [
    {
     "data": {
      "text/plain": [
       "array([0, 1, 1, 0, 1, 0, 0, 2, 0, 2, 2, 1, 0, 0, 1, 2, 1, 2, 2, 0, 2, 0,\n",
       "       0, 0, 0, 1, 1, 1, 1, 2, 1, 2, 2, 1, 0, 1, 0, 1, 2, 1, 2, 1, 2, 1,\n",
       "       1, 1, 2, 1, 0, 2, 0, 0, 1, 0, 0, 2, 1, 0, 2, 0, 2, 1, 0, 0, 2, 1,\n",
       "       1, 0, 0, 2, 1, 1, 0, 1, 2, 1, 0, 1, 2, 2, 2, 2, 0, 0, 1, 2, 0, 1,\n",
       "       0, 0, 2, 1, 2, 0, 2, 0, 2, 0, 1, 0, 2, 2, 0, 2, 2, 2, 1, 0, 1, 0,\n",
       "       0, 1, 2, 0, 2, 0, 1, 2, 2, 1])"
      ]
     },
     "execution_count": 10,
     "metadata": {},
     "output_type": "execute_result"
    }
   ],
   "source": [
    "Label_encoder = LabelEncoder()\n",
    "Label_encoder.fit_transform(y_train)"
   ]
  },
  {
   "cell_type": "code",
   "execution_count": 11,
   "id": "d12de038-6314-40f0-8b29-1f35b46f86aa",
   "metadata": {},
   "outputs": [
    {
     "data": {
      "text/html": [
       "<style>#sk-container-id-1 {color: black;background-color: white;}#sk-container-id-1 pre{padding: 0;}#sk-container-id-1 div.sk-toggleable {background-color: white;}#sk-container-id-1 label.sk-toggleable__label {cursor: pointer;display: block;width: 100%;margin-bottom: 0;padding: 0.3em;box-sizing: border-box;text-align: center;}#sk-container-id-1 label.sk-toggleable__label-arrow:before {content: \"▸\";float: left;margin-right: 0.25em;color: #696969;}#sk-container-id-1 label.sk-toggleable__label-arrow:hover:before {color: black;}#sk-container-id-1 div.sk-estimator:hover label.sk-toggleable__label-arrow:before {color: black;}#sk-container-id-1 div.sk-toggleable__content {max-height: 0;max-width: 0;overflow: hidden;text-align: left;background-color: #f0f8ff;}#sk-container-id-1 div.sk-toggleable__content pre {margin: 0.2em;color: black;border-radius: 0.25em;background-color: #f0f8ff;}#sk-container-id-1 input.sk-toggleable__control:checked~div.sk-toggleable__content {max-height: 200px;max-width: 100%;overflow: auto;}#sk-container-id-1 input.sk-toggleable__control:checked~label.sk-toggleable__label-arrow:before {content: \"▾\";}#sk-container-id-1 div.sk-estimator input.sk-toggleable__control:checked~label.sk-toggleable__label {background-color: #d4ebff;}#sk-container-id-1 div.sk-label input.sk-toggleable__control:checked~label.sk-toggleable__label {background-color: #d4ebff;}#sk-container-id-1 input.sk-hidden--visually {border: 0;clip: rect(1px 1px 1px 1px);clip: rect(1px, 1px, 1px, 1px);height: 1px;margin: -1px;overflow: hidden;padding: 0;position: absolute;width: 1px;}#sk-container-id-1 div.sk-estimator {font-family: monospace;background-color: #f0f8ff;border: 1px dotted black;border-radius: 0.25em;box-sizing: border-box;margin-bottom: 0.5em;}#sk-container-id-1 div.sk-estimator:hover {background-color: #d4ebff;}#sk-container-id-1 div.sk-parallel-item::after {content: \"\";width: 100%;border-bottom: 1px solid gray;flex-grow: 1;}#sk-container-id-1 div.sk-label:hover label.sk-toggleable__label {background-color: #d4ebff;}#sk-container-id-1 div.sk-serial::before {content: \"\";position: absolute;border-left: 1px solid gray;box-sizing: border-box;top: 0;bottom: 0;left: 50%;z-index: 0;}#sk-container-id-1 div.sk-serial {display: flex;flex-direction: column;align-items: center;background-color: white;padding-right: 0.2em;padding-left: 0.2em;position: relative;}#sk-container-id-1 div.sk-item {position: relative;z-index: 1;}#sk-container-id-1 div.sk-parallel {display: flex;align-items: stretch;justify-content: center;background-color: white;position: relative;}#sk-container-id-1 div.sk-item::before, #sk-container-id-1 div.sk-parallel-item::before {content: \"\";position: absolute;border-left: 1px solid gray;box-sizing: border-box;top: 0;bottom: 0;left: 50%;z-index: -1;}#sk-container-id-1 div.sk-parallel-item {display: flex;flex-direction: column;z-index: 1;position: relative;background-color: white;}#sk-container-id-1 div.sk-parallel-item:first-child::after {align-self: flex-end;width: 50%;}#sk-container-id-1 div.sk-parallel-item:last-child::after {align-self: flex-start;width: 50%;}#sk-container-id-1 div.sk-parallel-item:only-child::after {width: 0;}#sk-container-id-1 div.sk-dashed-wrapped {border: 1px dashed gray;margin: 0 0.4em 0.5em 0.4em;box-sizing: border-box;padding-bottom: 0.4em;background-color: white;}#sk-container-id-1 div.sk-label label {font-family: monospace;font-weight: bold;display: inline-block;line-height: 1.2em;}#sk-container-id-1 div.sk-label-container {text-align: center;}#sk-container-id-1 div.sk-container {/* jupyter's `normalize.less` sets `[hidden] { display: none; }` but bootstrap.min.css set `[hidden] { display: none !important; }` so we also need the `!important` here to be able to override the default hidden behavior on the sphinx rendered scikit-learn.org. See: https://github.com/scikit-learn/scikit-learn/issues/21755 */display: inline-block !important;position: relative;}#sk-container-id-1 div.sk-text-repr-fallback {display: none;}</style><div id=\"sk-container-id-1\" class=\"sk-top-container\"><div class=\"sk-text-repr-fallback\"><pre>KNeighborsClassifier()</pre><b>In a Jupyter environment, please rerun this cell to show the HTML representation or trust the notebook. <br />On GitHub, the HTML representation is unable to render, please try loading this page with nbviewer.org.</b></div><div class=\"sk-container\" hidden><div class=\"sk-item\"><div class=\"sk-estimator sk-toggleable\"><input class=\"sk-toggleable__control sk-hidden--visually\" id=\"sk-estimator-id-1\" type=\"checkbox\" checked><label for=\"sk-estimator-id-1\" class=\"sk-toggleable__label sk-toggleable__label-arrow\">KNeighborsClassifier</label><div class=\"sk-toggleable__content\"><pre>KNeighborsClassifier()</pre></div></div></div></div></div>"
      ],
      "text/plain": [
       "KNeighborsClassifier()"
      ]
     },
     "execution_count": 11,
     "metadata": {},
     "output_type": "execute_result"
    }
   ],
   "source": [
    "KNC = KNeighborsClassifier(n_neighbors = 5)\n",
    "KNC.fit(x_train, y_train)"
   ]
  },
  {
   "cell_type": "code",
   "execution_count": 12,
   "id": "428f08ad-6eb7-439c-a856-6e5fedf8f24a",
   "metadata": {},
   "outputs": [
    {
     "data": {
      "text/plain": [
       "array([[-0.08187754, -0.91866246, -0.07779969, -0.15221603],\n",
       "       [ 0.30596343, -1.23184284,  0.93958087,  0.12454039],\n",
       "       [-0.08187754, -0.60548208,  0.6403513 ,  1.50832248],\n",
       "       [-1.89180208,  0.64723946, -1.6337935 , -1.53599812],\n",
       "       [ 1.728047  ,  1.899961  ,  1.23881045,  1.64670069],\n",
       "       [-1.24540046, -1.85820361, -0.43687518, -0.42897245],\n",
       "       [-1.24540046,  0.02087869, -1.57394758, -1.53599812],\n",
       "       [ 0.04740279,  0.64723946,  0.46081355,  0.67805322],\n",
       "       [-1.11612013,  0.02087869, -1.45425575, -1.53599812],\n",
       "       [-0.59899884,  0.02087869,  0.2812758 ,  0.2629186 ],\n",
       "       [-0.34043819,  0.02087869,  0.2812758 ,  0.2629186 ],\n",
       "       [ 0.56452408, -0.60548208,  0.6403513 ,  0.2629186 ],\n",
       "       [ 1.59876668,  0.02087869,  1.11911862,  1.09318785],\n",
       "       [ 1.85732733, -0.29230169,  1.35850228,  0.67805322],\n",
       "       [-1.11612013,  1.27360023, -1.45425575, -1.2592417 ],\n",
       "       [-0.98683981,  0.96041984, -1.39440983, -1.12086349],\n",
       "       [ 0.56452408, -0.91866246,  0.52065947,  0.67805322],\n",
       "       [ 1.98660765, -0.60548208,  1.23881045,  0.81643143],\n",
       "       [-0.98683981,  2.21314138, -1.51410166, -1.2592417 ],\n",
       "       [-1.37468078,  0.02087869, -1.57394758, -1.67437633],\n",
       "       [ 0.30596343, -0.60548208, -0.01795377, -0.01383782],\n",
       "       [ 0.69380441, -0.60548208,  0.93958087,  1.09318785],\n",
       "       [-0.72827916,  2.21314138, -1.51410166, -1.53599812],\n",
       "       [ 0.56452408, -1.54502323,  0.52065947,  0.2629186 ],\n",
       "       [-0.34043819,  0.02087869,  0.04189214, -0.01383782],\n",
       "       [ 0.43524376,  1.27360023,  0.81988904,  1.36994427],\n",
       "       [ 0.69380441, -0.29230169,  0.16158397, -0.01383782],\n",
       "       [-0.21115786, -0.29230169,  0.10173806, -0.01383782],\n",
       "       [ 0.30596343, -0.29230169,  0.40096763,  0.12454039],\n",
       "       [ 0.69380441, -0.60548208,  0.93958087,  1.23156606]])"
      ]
     },
     "execution_count": 12,
     "metadata": {},
     "output_type": "execute_result"
    }
   ],
   "source": [
    "standard_scalar.fit_transform(x_test)"
   ]
  },
  {
   "cell_type": "code",
   "execution_count": 14,
   "id": "12767144-a553-4fb5-baca-7df62093fd5d",
   "metadata": {},
   "outputs": [
    {
     "data": {
      "text/plain": [
       "array([1, 2, 2, 0, 2, 1, 0, 1, 0, 1, 1, 2, 2, 2, 0, 0, 2, 2, 0, 0, 1, 2,\n",
       "       0, 1, 1, 2, 1, 1, 1, 2])"
      ]
     },
     "execution_count": 14,
     "metadata": {},
     "output_type": "execute_result"
    }
   ],
   "source": [
    "Label_encoder.fit_transform(y_test)"
   ]
  },
  {
   "cell_type": "code",
   "execution_count": 15,
   "id": "076bd257-c0f7-4c35-b125-7fbeeaac2b77",
   "metadata": {},
   "outputs": [],
   "source": [
    "ytestpredict = KNC.predict(x_test)"
   ]
  },
  {
   "cell_type": "code",
   "execution_count": 17,
   "id": "20602ba7-602a-4045-ac76-ab64b8870432",
   "metadata": {},
   "outputs": [
    {
     "data": {
      "image/png": "[encoded data removed]",
      "text/plain": [
       "<Figure size 640x480 with 2 Axes>"
      ]
     },
     "metadata": {},
     "output_type": "display_data"
    }
   ],
   "source": [
    "matrix = confusion_matrix(y_test, ytestpredict)\n",
    "sns.heatmap(matrix, annot=True, fmt=\"d\")\n",
    "plt.title(\"Confusion Matrix\")\n",
    "plt.xlabel(\"Predicted\")\n",
    "plt.ylabel(\"Actual\")\n",
    "plt.show()"
   ]
  },
  {
   "cell_type": "code",
   "execution_count": null,
   "id": "e0b28398-c6b2-4693-874b-575f86750041",
   "metadata": {},
   "outputs": [],
   "source": [
    "print(classification_report(y_test, v))"
   ]
  },
  {
   "cell_type": "code",
   "execution_count": null,
   "id": "2a3285da-50a9-45f9-a9f2-53ab492e2421",
   "metadata": {},
   "outputs": [],
   "source": []
  },
  {
   "cell_type": "code",
   "execution_count": null,
   "id": "d5f8dc92-b677-4724-b8a5-47252ecff057",
   "metadata": {},
   "outputs": [],
   "source": []
  },
  {
   "cell_type": "code",
   "execution_count": null,
   "id": "becaa14c-b373-43f6-8419-a4e3dcb24260",
   "metadata": {},
   "outputs": [],
   "source": []
  },
  {
   "cell_type": "code",
   "execution_count": null,
   "id": "22344d00-90d8-4d98-b0ca-842ca4ec2783",
   "metadata": {},
   "outputs": [],
   "source": []
  },
  {
   "cell_type": "code",
   "execution_count": null,
   "id": "2f8e2f38-5416-4f46-bb3c-f3363659f295",
   "metadata": {},
   "outputs": [],
   "source": []
  },
  {
   "cell_type": "code",
   "execution_count": null,
   "id": "75c8b30b-bc18-4cb7-8bc9-e98589e726e2",
   "metadata": {},
   "outputs": [],
   "source": []
  },
  {
   "cell_type": "code",
   "execution_count": null,
   "id": "ec0cfaf5-9106-4a0d-b781-f68deb41b4fc",
   "metadata": {},
   "outputs": [],
   "source": []
  },
  {
   "cell_type": "code",
   "execution_count": null,
   "id": "92ab0d82-450e-4563-b3fa-1d795c6b80b8",
   "metadata": {},
   "outputs": [],
   "source": []
  },
  {
   "cell_type": "code",
   "execution_count": null,
   "id": "c8bae2e0-3ba4-480c-8817-00fc0417f63e",
   "metadata": {},
   "outputs": [],
   "source": []
  },
  {
   "cell_type": "code",
   "execution_count": null,
   "id": "37539259-1a62-41f6-85a3-a5af48a0e3d5",
   "metadata": {},
   "outputs": [],
   "source": []
  },
  {
   "cell_type": "code",
   "execution_count": null,
   "id": "d80da9e8-6746-4c06-b522-2814942abd0c",
   "metadata": {},
   "outputs": [],
   "source": []
  },
  {
   "cell_type": "code",
   "execution_count": null,
   "id": "5def7698-8162-49ec-9802-c5c7713aafa7",
   "metadata": {},
   "outputs": [],
   "source": []
  },
  {
   "cell_type": "code",
   "execution_count": null,
   "id": "d093b43b-70f6-44b3-8e3c-d67b633cd6f0",
   "metadata": {},
   "outputs": [],
   "source": []
  },
  {
   "cell_type": "code",
   "execution_count": null,
   "id": "0c4a9cbd-ba20-48f4-9345-fbe9914261b9",
   "metadata": {},
   "outputs": [],
   "source": []
  },
  {
   "cell_type": "code",
   "execution_count": null,
   "id": "8d906d39-1689-497b-b920-7f90a1a1c763",
   "metadata": {},
   "outputs": [],
   "source": []
  },
  {
   "cell_type": "code",
   "execution_count": null,
   "id": "6a0efe6f-502e-4f5d-8575-7ba94e833a55",
   "metadata": {},
   "outputs": [],
   "source": []
  },
  {
   "cell_type": "code",
   "execution_count": null,
   "id": "7c7ed784-4882-4cbb-b4cc-2c8b8bddda45",
   "metadata": {},
   "outputs": [],
   "source": []
  }
 ],
 "metadata": {
  "kernelspec": {
   "display_name": "Python 3 (ipykernel)",
   "language": "python",
   "name": "python3"
  },
  "language_info": {
   "codemirror_mode": {
    "name": "ipython",
    "version": 3
   },
   "file_extension": ".py",
   "mimetype": "text/x-python",
   "name": "python",
   "nbconvert_exporter": "python",
   "pygments_lexer": "ipython3",
   "version": "3.11.7"
  }
 },
 "nbformat": 4,
 "nbformat_minor": 5
}
