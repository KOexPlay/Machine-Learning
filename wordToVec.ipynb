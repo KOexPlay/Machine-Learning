{
 "cells": [
  {
   "cell_type": "code",
   "execution_count": 1,
   "id": "6b376ef1-a509-490e-baf8-bf09bf49b709",
   "metadata": {},
   "outputs": [],
   "source": [
    "import nltk\n",
    "from gensim.models import Word2Vec\n",
    "from nltk.corpus import stopwords\n",
    "import re"
   ]
  },
  {
   "cell_type": "code",
   "execution_count": 6,
   "id": "a861fb28-6117-47de-9975-674d689ec052",
   "metadata": {},
   "outputs": [],
   "source": [
    "paragraph = \"\"\"\n",
    "The Matter of Britain (French: matière de Bretagne; Welsh: Mater Prydain; Cornish: Mater Brythain; Breton: Afer Breizh-Veur) is the body of medieval literature and legendary material associated with Great Britain and Brittany and the legendary kings and heroes associated with it, particularly King Arthur. The 12th-century writer Geoffrey of Monmouth's Historia Regum Britanniae (History of the Kings of Britain) is a central component of the Matter of Britain.\n",
    "\"\"\""
   ]
  },
  {
   "cell_type": "code",
   "execution_count": 7,
   "id": "62e63add-4adb-44d0-9114-4b1f1eb7ef50",
   "metadata": {},
   "outputs": [],
   "source": [
    "# Preprocessing the text\n",
    "text = re.sub(r'\\[[0-9]*\\]', ' ', paragraph) # removing numbers in brackets\n",
    "text = re.sub(r'\\s+', ' ', text) # Remove extra spaces\n",
    "text = text.lower() # Convert to lower case\n",
    "text = re.sub(r'\\d', ' ', text) # Remove numeric values\n",
    "text = re.sub(r'\\s+', ' ', text) # Remove extra spaces again\n"
   ]
  },
  {
   "cell_type": "code",
   "execution_count": 9,
   "id": "3730922e-10d5-4816-b06f-bfdcad68d2ab",
   "metadata": {},
   "outputs": [],
   "source": [
    "# tokenising sentences and words\n",
    "sentences = nltk.sent_tokenize(text)\n",
    "sentences = [nltk.word_tokenize(sentence) for sentence in sentences]"
   ]
  },
  {
   "cell_type": "code",
   "execution_count": 10,
   "id": "8fd4a62e-308d-4e2e-a496-7a1d2c62c8a7",
   "metadata": {},
   "outputs": [],
   "source": [
    "# Removing stopwords\n",
    "stop_words = set(stopwords.words(\"english\"))\n",
    "filter_sentences = [[word for word in sentence if word not in stop_words] for sentence in sentences]"
   ]
  },
  {
   "cell_type": "code",
   "execution_count": 11,
   "id": "8fae2e37-9689-4cf3-b43f-6781ce5858b1",
   "metadata": {},
   "outputs": [],
   "source": [
    "# Training the word to vec model\n",
    "model = Word2Vec(filter_sentences, vector_size = 100, window = 5, min_count = 1, workers = 4) "
   ]
  },
  {
   "cell_type": "code",
   "execution_count": 12,
   "id": "6c4842e5-39be-4199-ba13-19fb94d6ac6c",
   "metadata": {},
   "outputs": [],
   "source": [
    "# Words in vocabulary\n",
    "words = model.wv.index_to_key # Updated way to access words and vocabulary"
   ]
  },
  {
   "cell_type": "code",
   "execution_count": 14,
   "id": "7d58e2b1-bbee-4f16-8d84-5bbeb4c7e19b",
   "metadata": {},
   "outputs": [
    {
     "name": "stdout",
     "output_type": "stream",
     "text": [
      "Vectors for 'medieval' is: \n",
      " [-0.0021954  -0.00970765  0.00929529  0.00203197 -0.00116118 -0.00550371\n",
      " -0.00850983 -0.00990347  0.00894438 -0.00249943  0.00459238 -0.00451736\n",
      "  0.00995806  0.00365472  0.00102569 -0.0040441   0.00121062 -0.0026468\n",
      "  0.00735074  0.00447825  0.00098668  0.00348309  0.00371435 -0.00678538\n",
      "  0.00893076  0.00173623 -0.00578746  0.00865668 -0.00129148  0.00818704\n",
      " -0.00150687  0.00698765  0.0027264  -0.00435973 -0.00374793  0.00919178\n",
      "  0.00159187 -0.00600701  0.00034962 -0.0019624   0.00158453 -0.00771732\n",
      "  0.00738409  0.00131223  0.0078752   0.00445304 -0.00439387  0.00375268\n",
      " -0.00063848 -0.00985625  0.00824213  0.00964937  0.00965339 -0.0037998\n",
      " -0.00844962  0.0048277  -0.00765548  0.00853205  0.00276025  0.00560334\n",
      "  0.00611649  0.00046481 -0.00209489  0.00077317  0.00983596 -0.00712454\n",
      " -0.00155245 -0.00235854  0.00486601  0.00645004 -0.00413204  0.00362367\n",
      " -0.00448113  0.00327047  0.00816847  0.00362861 -0.00457281 -0.00300916\n",
      "  0.0078664   0.00960406  0.00581709 -0.00327404 -0.00182528 -0.00625739\n",
      " -0.00429557  0.00337436 -0.00648775 -0.00661616  0.00811142  0.00950546\n",
      "  0.00814058  0.00151043 -0.00879589 -0.00759717  0.00157208 -0.00952763\n",
      " -0.00741021  0.00202412 -0.00292117 -0.00915701]\n"
     ]
    }
   ],
   "source": [
    "# Finding word vectors (ensure word exists before accessing)\n",
    "if \"medieval\" in words:\n",
    "    vector = model.wv[\"medieval\"]\n",
    "    print(\"Vectors for 'medieval' is: \\n\", vector)"
   ]
  },
  {
   "cell_type": "code",
   "execution_count": 15,
   "id": "1f163d85-15a8-4d70-a0e8-b0834dc5a728",
   "metadata": {},
   "outputs": [
    {
     "name": "stdout",
     "output_type": "stream",
     "text": [
      "Most similar words to 'french':\n",
      " [(\"'s\", 0.1961192935705185), ('medieval', 0.15878428518772125), (':', 0.12300866842269897), ('material', 0.10278216749429703), ('heroes', 0.08683586120605469), ('prydain', 0.08284296095371246), (')', 0.08007049560546875), ('regum', 0.06525752693414688), ('britain', 0.05378425866365433), ('historia', 0.03162921220064163)]\n"
     ]
    }
   ],
   "source": [
    "# Finding most similar words (ensure word exists before querying)\n",
    "if 'french' in words:\n",
    "    similar = model.wv.most_similar('french')\n",
    "    print(\"Most similar words to 'french':\\n\", similar)"
   ]
  },
  {
   "cell_type": "code",
   "execution_count": null,
   "id": "40eed607-8feb-47d6-bf16-6d0823b513c8",
   "metadata": {},
   "outputs": [],
   "source": []
  },
  {
   "cell_type": "code",
   "execution_count": null,
   "id": "f0a0ca1b-0af0-4c8e-bdec-ab0458b8e2dc",
   "metadata": {},
   "outputs": [],
   "source": []
  }
 ],
 "metadata": {
  "kernelspec": {
   "display_name": "Python 3 (ipykernel)",
   "language": "python",
   "name": "python3"
  },
  "language_info": {
   "codemirror_mode": {
    "name": "ipython",
    "version": 3
   },
   "file_extension": ".py",
   "mimetype": "text/x-python",
   "name": "python",
   "nbconvert_exporter": "python",
   "pygments_lexer": "ipython3",
   "version": "3.11.7"
  }
 },
 "nbformat": 4,
 "nbformat_minor": 5
}
